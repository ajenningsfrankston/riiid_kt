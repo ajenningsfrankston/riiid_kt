{
 "cells": [
  {
   "cell_type": "code",
   "execution_count": null,
   "outputs": [],
   "source": [
    "@iter_test = env.iter_test()"
   ],
   "metadata": {
    "collapsed": false,
    "pycharm": {
     "name": "#%%\n"
    }
   }
  },
  {
   "cell_type": "code",
   "execution_count": null,
   "outputs": [],
   "source": [
    "for (test_df, sample_prediction_df) in iter_test:\n",
    "    y_preds = []\n",
    "\n",
    "    test_df = test_df.merge(user_answers_df, how = 'left', on = 'user_id')\n",
    "    test_df = test_df.merge(questions_df, how = 'left', left_on = 'content_id', right_on = 'question_id')\n",
    "    test_df = test_df.merge(bundle_answers_df, how = 'left', on = 'bundle_id')\n",
    "    test_df = test_df.merge(part_answers_df, how = 'left', on = 'part')\n",
    "\n",
    "    test_df['prior_question_had_explanation'] = test_df['prior_question_had_explanation'].fillna(value = False).astype(bool)\n",
    "    test_df.fillna(value = -1, inplace = True)\n",
    "    X_test = test_df[features]\n",
    "\n",
    "    for model in models:\n",
    "        y_pred = model.predict(X_test, num_iteration=model.best_iteration)\n",
    "        y_preds.append(y_pred)\n",
    "\n",
    "    y_preds = sum(y_preds) / len(y_preds)\n",
    "    test_df['answered_correctly'] = y_preds\n",
    "    env.predict(test_df.loc[test_df['content_type_id'] == 0, ['row_id', 'answered_correctly']])\n",
    "\n",
    "%% md"
   ],
   "metadata": {
    "collapsed": false,
    "pycharm": {
     "name": "#%%\n"
    }
   }
  }
 ],
 "metadata": {
  "kernelspec": {
   "display_name": "Python 3",
   "language": "python",
   "name": "python3"
  },
  "language_info": {
   "codemirror_mode": {
    "name": "ipython",
    "version": 2
   },
   "file_extension": ".py",
   "mimetype": "text/x-python",
   "name": "python",
   "nbconvert_exporter": "python",
   "pygments_lexer": "ipython2",
   "version": "2.7.6"
  },
  "pycharm": {
   "stem_cell": {
    "cell_type": "raw",
    "source": [
     "%%\n"
    ],
    "metadata": {
     "collapsed": false
    }
   }
  }
 },
 "nbformat": 4,
 "nbformat_minor": 0
}