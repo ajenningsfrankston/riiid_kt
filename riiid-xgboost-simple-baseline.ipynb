{
 "cells": [
  {
   "cell_type": "code",
   "execution_count": 0,
   "outputs": [],
   "source": [],
   "metadata": {
    "collapsed": false,
    "pycharm": {
     "name": "#%%\n"
    }
   }
  },
  {
   "cell_type": "code",
   "execution_count": 1,
   "outputs": [],
   "source": [
    "import xgboost as xgb\n",
    "import numpy as np\n",
    "import pandas as pd\n",
    "from sklearn import preprocessing\n",
    "from sklearn.metrics import roc_auc_score\n",
    "\n",
    "#import riiideducation"
   ],
   "metadata": {
    "collapsed": false,
    "pycharm": {
     "name": "#%%\n"
    }
   }
  },
  {
   "cell_type": "code",
   "execution_count": 2,
   "outputs": [],
   "source": [
    "#env = riiideducation.make_env()"
   ],
   "metadata": {
    "collapsed": false,
    "pycharm": {
     "name": "#%%\n"
    }
   }
  },
  {
   "cell_type": "code",
   "execution_count": 3,
   "outputs": [],
   "source": [
    "train_df = pd.read_csv('./input/riiid-test-answer-prediction/train.csv', low_memory=False, nrows=10**7,\n",
    "                      dtype={\n",
    "                          'row_id': 'int64', 'timestamp': 'int64', 'user_id': 'int32', 'content_id': 'int16', 'content_type_id': 'int8',\n",
    "                              'task_container_id': 'int16', 'user_answer': 'int8', 'answered_correctly': 'int8', 'prior_question_elapsed_time': 'float32',\n",
    "                             'prior_question_had_explanation': 'boolean',\n",
    "                      })\n",
    "\n",
    "# train_df = train_df.query('answered_correctly != -1').reset_index(drop=True)\n",
    "# train_df['prior_question_had_explanation'] = train_df['prior_question_had_explanation'].astype(float) 後でやる"
   ],
   "metadata": {
    "collapsed": false,
    "pycharm": {
     "name": "#%%\n"
    }
   }
  },
  {
   "cell_type": "markdown",
   "source": [
    "features_part_df と train_part_df に分ける。"
   ],
   "metadata": {
    "collapsed": false
   }
  },
  {
   "cell_type": "code",
   "execution_count": 4,
   "outputs": [],
   "source": [
    "# 900万行・・・特徴量作成\n",
    "features_part_df = train_df.iloc[:int( 9 / 10 * len(train_df) )]\n",
    "# 100万行・・・最新の100万件\n",
    "train_part_df = train_df.iloc[int( 9 / 10 * len(train_df) ):]"
   ],
   "metadata": {
    "collapsed": false,
    "pycharm": {
     "name": "#%%\n"
    }
   }
  },
  {
   "cell_type": "code",
   "execution_count": 5,
   "outputs": [
    {
     "data": {
      "text/plain": "         Unnamed: 0   row_id   timestamp    user_id  content_id  \\\n9000000     9000000  9000000  9871729962  196122333        3992   \n9000001     9000001  9000001  9871801320  196122333        9510   \n9000002     9000002  9000002  9871852731  196122333        5214   \n9000003     9000003  9000003  9872436636  196122333        5334   \n9000004     9000004  9000004  9872617214  196122333        3722   \n...             ...      ...         ...        ...         ...   \n9999995     9999995  9999995   646228695  216747867        8805   \n9999996     9999996  9999996   646321314  216747867        5708   \n9999997     9999997  9999997   646393443  216747867        5434   \n9999998     9999998  9999998   646445632  216747867        6429   \n9999999     9999999  9999999   690225760  216747867        9010   \n\n         content_type_id  task_container_id  user_answer  answered_correctly  \\\n9000000                0                242            0                   1   \n9000001                0                243            3                   0   \n9000002                0                244            3                   1   \n9000003                0                245            0                   0   \n9000004                0                246            2                   1   \n...                  ...                ...          ...                 ...   \n9999995                0                410            1                   1   \n9999996                0                411            0                   0   \n9999997                0                412            0                   0   \n9999998                0                413            3                   1   \n9999999                0                414            2                   1   \n\n         prior_question_elapsed_time  prior_question_had_explanation  \n9000000                      19000.0                            True  \n9000001                      15000.0                            True  \n9000002                      13000.0                            True  \n9000003                      16000.0                            True  \n9000004                      16000.0                            True  \n...                              ...                             ...  \n9999995                      23000.0                            True  \n9999996                      13000.0                            True  \n9999997                      66000.0                            True  \n9999998                      37000.0                            True  \n9999999                      16000.0                            True  \n\n[1000000 rows x 11 columns]",
      "text/html": "<div>\n<style scoped>\n    .dataframe tbody tr th:only-of-type {\n        vertical-align: middle;\n    }\n\n    .dataframe tbody tr th {\n        vertical-align: top;\n    }\n\n    .dataframe thead th {\n        text-align: right;\n    }\n</style>\n<table border=\"1\" class=\"dataframe\">\n  <thead>\n    <tr style=\"text-align: right;\">\n      <th></th>\n      <th>Unnamed: 0</th>\n      <th>row_id</th>\n      <th>timestamp</th>\n      <th>user_id</th>\n      <th>content_id</th>\n      <th>content_type_id</th>\n      <th>task_container_id</th>\n      <th>user_answer</th>\n      <th>answered_correctly</th>\n      <th>prior_question_elapsed_time</th>\n      <th>prior_question_had_explanation</th>\n    </tr>\n  </thead>\n  <tbody>\n    <tr>\n      <th>9000000</th>\n      <td>9000000</td>\n      <td>9000000</td>\n      <td>9871729962</td>\n      <td>196122333</td>\n      <td>3992</td>\n      <td>0</td>\n      <td>242</td>\n      <td>0</td>\n      <td>1</td>\n      <td>19000.0</td>\n      <td>True</td>\n    </tr>\n    <tr>\n      <th>9000001</th>\n      <td>9000001</td>\n      <td>9000001</td>\n      <td>9871801320</td>\n      <td>196122333</td>\n      <td>9510</td>\n      <td>0</td>\n      <td>243</td>\n      <td>3</td>\n      <td>0</td>\n      <td>15000.0</td>\n      <td>True</td>\n    </tr>\n    <tr>\n      <th>9000002</th>\n      <td>9000002</td>\n      <td>9000002</td>\n      <td>9871852731</td>\n      <td>196122333</td>\n      <td>5214</td>\n      <td>0</td>\n      <td>244</td>\n      <td>3</td>\n      <td>1</td>\n      <td>13000.0</td>\n      <td>True</td>\n    </tr>\n    <tr>\n      <th>9000003</th>\n      <td>9000003</td>\n      <td>9000003</td>\n      <td>9872436636</td>\n      <td>196122333</td>\n      <td>5334</td>\n      <td>0</td>\n      <td>245</td>\n      <td>0</td>\n      <td>0</td>\n      <td>16000.0</td>\n      <td>True</td>\n    </tr>\n    <tr>\n      <th>9000004</th>\n      <td>9000004</td>\n      <td>9000004</td>\n      <td>9872617214</td>\n      <td>196122333</td>\n      <td>3722</td>\n      <td>0</td>\n      <td>246</td>\n      <td>2</td>\n      <td>1</td>\n      <td>16000.0</td>\n      <td>True</td>\n    </tr>\n    <tr>\n      <th>...</th>\n      <td>...</td>\n      <td>...</td>\n      <td>...</td>\n      <td>...</td>\n      <td>...</td>\n      <td>...</td>\n      <td>...</td>\n      <td>...</td>\n      <td>...</td>\n      <td>...</td>\n      <td>...</td>\n    </tr>\n    <tr>\n      <th>9999995</th>\n      <td>9999995</td>\n      <td>9999995</td>\n      <td>646228695</td>\n      <td>216747867</td>\n      <td>8805</td>\n      <td>0</td>\n      <td>410</td>\n      <td>1</td>\n      <td>1</td>\n      <td>23000.0</td>\n      <td>True</td>\n    </tr>\n    <tr>\n      <th>9999996</th>\n      <td>9999996</td>\n      <td>9999996</td>\n      <td>646321314</td>\n      <td>216747867</td>\n      <td>5708</td>\n      <td>0</td>\n      <td>411</td>\n      <td>0</td>\n      <td>0</td>\n      <td>13000.0</td>\n      <td>True</td>\n    </tr>\n    <tr>\n      <th>9999997</th>\n      <td>9999997</td>\n      <td>9999997</td>\n      <td>646393443</td>\n      <td>216747867</td>\n      <td>5434</td>\n      <td>0</td>\n      <td>412</td>\n      <td>0</td>\n      <td>0</td>\n      <td>66000.0</td>\n      <td>True</td>\n    </tr>\n    <tr>\n      <th>9999998</th>\n      <td>9999998</td>\n      <td>9999998</td>\n      <td>646445632</td>\n      <td>216747867</td>\n      <td>6429</td>\n      <td>0</td>\n      <td>413</td>\n      <td>3</td>\n      <td>1</td>\n      <td>37000.0</td>\n      <td>True</td>\n    </tr>\n    <tr>\n      <th>9999999</th>\n      <td>9999999</td>\n      <td>9999999</td>\n      <td>690225760</td>\n      <td>216747867</td>\n      <td>9010</td>\n      <td>0</td>\n      <td>414</td>\n      <td>2</td>\n      <td>1</td>\n      <td>16000.0</td>\n      <td>True</td>\n    </tr>\n  </tbody>\n</table>\n<p>1000000 rows × 11 columns</p>\n</div>"
     },
     "execution_count": 5,
     "metadata": {},
     "output_type": "execute_result"
    }
   ],
   "source": [
    "train_part_df"
   ],
   "metadata": {
    "collapsed": false,
    "pycharm": {
     "name": "#%%\n"
    }
   }
  },
  {
   "cell_type": "markdown",
   "source": [
    "features_part_df で新しい特徴量を作成"
   ],
   "metadata": {
    "collapsed": false
   }
  },
  {
   "cell_type": "code",
   "execution_count": 6,
   "outputs": [],
   "source": [
    "# 追加するデータ1 user_answers_df\n",
    "train_questions_only_df = features_part_df[features_part_df['answered_correctly'] != -1]\n",
    "\n",
    "grouped_by_user_df = train_questions_only_df.groupby('user_id')\n",
    "\n",
    "user_answers_df = grouped_by_user_df.agg({'answered_correctly': ['mean', 'count', 'std', 'median', 'skew']}).copy()\n",
    "user_answers_df.columns = ['mean_user_accuracy', 'questions_answered', 'std_user_accuracy', 'median_user_accuracy', 'skew_user_accuracy']"
   ],
   "metadata": {
    "collapsed": false,
    "pycharm": {
     "name": "#%%\n"
    }
   }
  },
  {
   "cell_type": "code",
   "execution_count": 7,
   "outputs": [
    {
     "data": {
      "text/plain": "           mean_user_accuracy  questions_answered  std_user_accuracy  \\\nuser_id                                                                \n115                  0.695652                  46           0.465215   \n124                  0.233333                  30           0.430183   \n2746                 0.578947                  19           0.507257   \n5382                 0.672000                 125           0.471374   \n8623                 0.642202                 109           0.481566   \n...                       ...                 ...                ...   \n196087402            0.357143                  14           0.497245   \n196112832            0.764706                  17           0.437237   \n196116047            0.640000                  25           0.489898   \n196120982            0.601562                 256           0.490535   \n196122333            0.611722                 273           0.488254   \n\n           median_user_accuracy  skew_user_accuracy  \nuser_id                                              \n115                         1.0           -0.879359  \n124                         0.0            1.328338  \n2746                        1.0           -0.347892  \n5382                        1.0           -0.741648  \n8623                        1.0           -0.601619  \n...                         ...                 ...  \n196087402                   0.0            0.670360  \n196112832                   1.0           -1.372252  \n196116047                   1.0           -0.621247  \n196120982                   1.0           -0.417349  \n196122333                   1.0           -0.461015  \n\n[35683 rows x 5 columns]",
      "text/html": "<div>\n<style scoped>\n    .dataframe tbody tr th:only-of-type {\n        vertical-align: middle;\n    }\n\n    .dataframe tbody tr th {\n        vertical-align: top;\n    }\n\n    .dataframe thead th {\n        text-align: right;\n    }\n</style>\n<table border=\"1\" class=\"dataframe\">\n  <thead>\n    <tr style=\"text-align: right;\">\n      <th></th>\n      <th>mean_user_accuracy</th>\n      <th>questions_answered</th>\n      <th>std_user_accuracy</th>\n      <th>median_user_accuracy</th>\n      <th>skew_user_accuracy</th>\n    </tr>\n    <tr>\n      <th>user_id</th>\n      <th></th>\n      <th></th>\n      <th></th>\n      <th></th>\n      <th></th>\n    </tr>\n  </thead>\n  <tbody>\n    <tr>\n      <th>115</th>\n      <td>0.695652</td>\n      <td>46</td>\n      <td>0.465215</td>\n      <td>1.0</td>\n      <td>-0.879359</td>\n    </tr>\n    <tr>\n      <th>124</th>\n      <td>0.233333</td>\n      <td>30</td>\n      <td>0.430183</td>\n      <td>0.0</td>\n      <td>1.328338</td>\n    </tr>\n    <tr>\n      <th>2746</th>\n      <td>0.578947</td>\n      <td>19</td>\n      <td>0.507257</td>\n      <td>1.0</td>\n      <td>-0.347892</td>\n    </tr>\n    <tr>\n      <th>5382</th>\n      <td>0.672000</td>\n      <td>125</td>\n      <td>0.471374</td>\n      <td>1.0</td>\n      <td>-0.741648</td>\n    </tr>\n    <tr>\n      <th>8623</th>\n      <td>0.642202</td>\n      <td>109</td>\n      <td>0.481566</td>\n      <td>1.0</td>\n      <td>-0.601619</td>\n    </tr>\n    <tr>\n      <th>...</th>\n      <td>...</td>\n      <td>...</td>\n      <td>...</td>\n      <td>...</td>\n      <td>...</td>\n    </tr>\n    <tr>\n      <th>196087402</th>\n      <td>0.357143</td>\n      <td>14</td>\n      <td>0.497245</td>\n      <td>0.0</td>\n      <td>0.670360</td>\n    </tr>\n    <tr>\n      <th>196112832</th>\n      <td>0.764706</td>\n      <td>17</td>\n      <td>0.437237</td>\n      <td>1.0</td>\n      <td>-1.372252</td>\n    </tr>\n    <tr>\n      <th>196116047</th>\n      <td>0.640000</td>\n      <td>25</td>\n      <td>0.489898</td>\n      <td>1.0</td>\n      <td>-0.621247</td>\n    </tr>\n    <tr>\n      <th>196120982</th>\n      <td>0.601562</td>\n      <td>256</td>\n      <td>0.490535</td>\n      <td>1.0</td>\n      <td>-0.417349</td>\n    </tr>\n    <tr>\n      <th>196122333</th>\n      <td>0.611722</td>\n      <td>273</td>\n      <td>0.488254</td>\n      <td>1.0</td>\n      <td>-0.461015</td>\n    </tr>\n  </tbody>\n</table>\n<p>35683 rows × 5 columns</p>\n</div>"
     },
     "execution_count": 7,
     "metadata": {},
     "output_type": "execute_result"
    }
   ],
   "source": [
    "user_answers_df"
   ],
   "metadata": {
    "collapsed": false,
    "pycharm": {
     "name": "#%%\n"
    }
   }
  },
  {
   "cell_type": "code",
   "execution_count": 8,
   "outputs": [],
   "source": [
    "# 追加するデータ2 questions_df\n",
    "questions_df = pd.read_csv('./input/riiid-test-answer-prediction/questions.csv')\n",
    "\n",
    "grouped_by_content_df = train_questions_only_df.groupby('content_id')\n",
    "\n",
    "content_answers_df = grouped_by_content_df.agg({'answered_correctly': ['mean', 'count', 'std', 'median', 'skew'] }).copy()\n",
    "content_answers_df.columns = ['mean_accuracy', 'question_asked', 'std_accuracy', 'median_accuracy', 'skew_accuracy']\n",
    "\n",
    "questions_df = questions_df.merge(content_answers_df, left_on = 'question_id', right_on = 'content_id', how = 'left')\n",
    "\n",
    "bundle_dict = questions_df['bundle_id'].value_counts().to_dict()\n",
    "\n",
    "# right_answers 正解数\n",
    "questions_df['right_answers'] = questions_df['mean_accuracy'] * questions_df['question_asked']\n",
    "\n",
    "questions_df['bundle_size'] = questions_df['bundle_id'].apply(lambda x: bundle_dict[x])"
   ],
   "metadata": {
    "collapsed": false,
    "pycharm": {
     "name": "#%%\n"
    }
   }
  },
  {
   "cell_type": "code",
   "execution_count": 9,
   "outputs": [
    {
     "data": {
      "text/plain": "       question_id  bundle_id  correct_answer  part            tags  \\\n0                0          0               0     1   51 131 162 38   \n1                1          1               1     1       131 36 81   \n2                2          2               0     1  131 101 162 92   \n3                3          3               0     1  131 149 162 29   \n4                4          4               3     1    131 5 162 38   \n...            ...        ...             ...   ...             ...   \n13518        13518      13518               3     5              14   \n13519        13519      13519               3     5               8   \n13520        13520      13520               2     5              73   \n13521        13521      13521               0     5             125   \n13522        13522      13522               3     5              55   \n\n       mean_accuracy  question_asked  std_accuracy  median_accuracy  \\\n0           0.901274           628.0      0.298532              1.0   \n1           0.889571           652.0      0.313665              1.0   \n2           0.558317          4064.0      0.496649              1.0   \n3           0.779570          2046.0      0.414638              1.0   \n4           0.627244          2841.0      0.483623              1.0   \n...              ...             ...           ...              ...   \n13518       0.782051            78.0      0.415525              1.0   \n13519       0.569620            79.0      0.498293              1.0   \n13520       0.702703            74.0      0.460188              1.0   \n13521       0.782051            78.0      0.415525              1.0   \n13522       0.907895            76.0      0.291096              1.0   \n\n       skew_accuracy  right_answers  bundle_size  \n0          -2.696906          566.0            1  \n1          -2.491635          580.0            1  \n2          -0.234957         2269.0            1  \n3          -1.349820         1595.0            1  \n4          -0.526582         1782.0            1  \n...              ...            ...          ...  \n13518      -1.393293           61.0            1  \n13519      -0.286693           45.0            1  \n13520      -0.905426           52.0            1  \n13521      -1.393293           61.0            1  \n13522      -2.878219           69.0            1  \n\n[13523 rows x 12 columns]",
      "text/html": "<div>\n<style scoped>\n    .dataframe tbody tr th:only-of-type {\n        vertical-align: middle;\n    }\n\n    .dataframe tbody tr th {\n        vertical-align: top;\n    }\n\n    .dataframe thead th {\n        text-align: right;\n    }\n</style>\n<table border=\"1\" class=\"dataframe\">\n  <thead>\n    <tr style=\"text-align: right;\">\n      <th></th>\n      <th>question_id</th>\n      <th>bundle_id</th>\n      <th>correct_answer</th>\n      <th>part</th>\n      <th>tags</th>\n      <th>mean_accuracy</th>\n      <th>question_asked</th>\n      <th>std_accuracy</th>\n      <th>median_accuracy</th>\n      <th>skew_accuracy</th>\n      <th>right_answers</th>\n      <th>bundle_size</th>\n    </tr>\n  </thead>\n  <tbody>\n    <tr>\n      <th>0</th>\n      <td>0</td>\n      <td>0</td>\n      <td>0</td>\n      <td>1</td>\n      <td>51 131 162 38</td>\n      <td>0.901274</td>\n      <td>628.0</td>\n      <td>0.298532</td>\n      <td>1.0</td>\n      <td>-2.696906</td>\n      <td>566.0</td>\n      <td>1</td>\n    </tr>\n    <tr>\n      <th>1</th>\n      <td>1</td>\n      <td>1</td>\n      <td>1</td>\n      <td>1</td>\n      <td>131 36 81</td>\n      <td>0.889571</td>\n      <td>652.0</td>\n      <td>0.313665</td>\n      <td>1.0</td>\n      <td>-2.491635</td>\n      <td>580.0</td>\n      <td>1</td>\n    </tr>\n    <tr>\n      <th>2</th>\n      <td>2</td>\n      <td>2</td>\n      <td>0</td>\n      <td>1</td>\n      <td>131 101 162 92</td>\n      <td>0.558317</td>\n      <td>4064.0</td>\n      <td>0.496649</td>\n      <td>1.0</td>\n      <td>-0.234957</td>\n      <td>2269.0</td>\n      <td>1</td>\n    </tr>\n    <tr>\n      <th>3</th>\n      <td>3</td>\n      <td>3</td>\n      <td>0</td>\n      <td>1</td>\n      <td>131 149 162 29</td>\n      <td>0.779570</td>\n      <td>2046.0</td>\n      <td>0.414638</td>\n      <td>1.0</td>\n      <td>-1.349820</td>\n      <td>1595.0</td>\n      <td>1</td>\n    </tr>\n    <tr>\n      <th>4</th>\n      <td>4</td>\n      <td>4</td>\n      <td>3</td>\n      <td>1</td>\n      <td>131 5 162 38</td>\n      <td>0.627244</td>\n      <td>2841.0</td>\n      <td>0.483623</td>\n      <td>1.0</td>\n      <td>-0.526582</td>\n      <td>1782.0</td>\n      <td>1</td>\n    </tr>\n    <tr>\n      <th>...</th>\n      <td>...</td>\n      <td>...</td>\n      <td>...</td>\n      <td>...</td>\n      <td>...</td>\n      <td>...</td>\n      <td>...</td>\n      <td>...</td>\n      <td>...</td>\n      <td>...</td>\n      <td>...</td>\n      <td>...</td>\n    </tr>\n    <tr>\n      <th>13518</th>\n      <td>13518</td>\n      <td>13518</td>\n      <td>3</td>\n      <td>5</td>\n      <td>14</td>\n      <td>0.782051</td>\n      <td>78.0</td>\n      <td>0.415525</td>\n      <td>1.0</td>\n      <td>-1.393293</td>\n      <td>61.0</td>\n      <td>1</td>\n    </tr>\n    <tr>\n      <th>13519</th>\n      <td>13519</td>\n      <td>13519</td>\n      <td>3</td>\n      <td>5</td>\n      <td>8</td>\n      <td>0.569620</td>\n      <td>79.0</td>\n      <td>0.498293</td>\n      <td>1.0</td>\n      <td>-0.286693</td>\n      <td>45.0</td>\n      <td>1</td>\n    </tr>\n    <tr>\n      <th>13520</th>\n      <td>13520</td>\n      <td>13520</td>\n      <td>2</td>\n      <td>5</td>\n      <td>73</td>\n      <td>0.702703</td>\n      <td>74.0</td>\n      <td>0.460188</td>\n      <td>1.0</td>\n      <td>-0.905426</td>\n      <td>52.0</td>\n      <td>1</td>\n    </tr>\n    <tr>\n      <th>13521</th>\n      <td>13521</td>\n      <td>13521</td>\n      <td>0</td>\n      <td>5</td>\n      <td>125</td>\n      <td>0.782051</td>\n      <td>78.0</td>\n      <td>0.415525</td>\n      <td>1.0</td>\n      <td>-1.393293</td>\n      <td>61.0</td>\n      <td>1</td>\n    </tr>\n    <tr>\n      <th>13522</th>\n      <td>13522</td>\n      <td>13522</td>\n      <td>3</td>\n      <td>5</td>\n      <td>55</td>\n      <td>0.907895</td>\n      <td>76.0</td>\n      <td>0.291096</td>\n      <td>1.0</td>\n      <td>-2.878219</td>\n      <td>69.0</td>\n      <td>1</td>\n    </tr>\n  </tbody>\n</table>\n<p>13523 rows × 12 columns</p>\n</div>"
     },
     "execution_count": 9,
     "metadata": {},
     "output_type": "execute_result"
    }
   ],
   "source": [
    "questions_df"
   ],
   "metadata": {
    "collapsed": false,
    "pycharm": {
     "name": "#%%\n"
    }
   }
  },
  {
   "cell_type": "code",
   "execution_count": 10,
   "outputs": [],
   "source": [
    "# 追加するデータ3 bundle_answers_df\n",
    "grouped_by_bundle_df = questions_df.groupby('bundle_id')\n",
    "\n",
    "bundle_answers_df = grouped_by_bundle_df.agg({'right_answers': 'sum', 'question_asked': 'sum'}).copy()\n",
    "bundle_answers_df.columns = ['bundle_right_answers', 'bundle_questions_asked']\n",
    "\n",
    "bundle_answers_df['bundle_accuracy'] = bundle_answers_df['bundle_right_answers'] / bundle_answers_df['bundle_questions_asked']"
   ],
   "metadata": {
    "collapsed": false,
    "pycharm": {
     "name": "#%%\n"
    }
   }
  },
  {
   "cell_type": "code",
   "execution_count": 11,
   "outputs": [
    {
     "data": {
      "text/plain": "           bundle_right_answers  bundle_questions_asked  bundle_accuracy\nbundle_id                                                               \n0                         566.0                   628.0         0.901274\n1                         580.0                   652.0         0.889571\n2                        2269.0                  4064.0         0.558317\n3                        1595.0                  2046.0         0.779570\n4                        1782.0                  2841.0         0.627244\n...                         ...                     ...              ...\n13518                      61.0                    78.0         0.782051\n13519                      45.0                    79.0         0.569620\n13520                      52.0                    74.0         0.702703\n13521                      61.0                    78.0         0.782051\n13522                      69.0                    76.0         0.907895\n\n[9765 rows x 3 columns]",
      "text/html": "<div>\n<style scoped>\n    .dataframe tbody tr th:only-of-type {\n        vertical-align: middle;\n    }\n\n    .dataframe tbody tr th {\n        vertical-align: top;\n    }\n\n    .dataframe thead th {\n        text-align: right;\n    }\n</style>\n<table border=\"1\" class=\"dataframe\">\n  <thead>\n    <tr style=\"text-align: right;\">\n      <th></th>\n      <th>bundle_right_answers</th>\n      <th>bundle_questions_asked</th>\n      <th>bundle_accuracy</th>\n    </tr>\n    <tr>\n      <th>bundle_id</th>\n      <th></th>\n      <th></th>\n      <th></th>\n    </tr>\n  </thead>\n  <tbody>\n    <tr>\n      <th>0</th>\n      <td>566.0</td>\n      <td>628.0</td>\n      <td>0.901274</td>\n    </tr>\n    <tr>\n      <th>1</th>\n      <td>580.0</td>\n      <td>652.0</td>\n      <td>0.889571</td>\n    </tr>\n    <tr>\n      <th>2</th>\n      <td>2269.0</td>\n      <td>4064.0</td>\n      <td>0.558317</td>\n    </tr>\n    <tr>\n      <th>3</th>\n      <td>1595.0</td>\n      <td>2046.0</td>\n      <td>0.779570</td>\n    </tr>\n    <tr>\n      <th>4</th>\n      <td>1782.0</td>\n      <td>2841.0</td>\n      <td>0.627244</td>\n    </tr>\n    <tr>\n      <th>...</th>\n      <td>...</td>\n      <td>...</td>\n      <td>...</td>\n    </tr>\n    <tr>\n      <th>13518</th>\n      <td>61.0</td>\n      <td>78.0</td>\n      <td>0.782051</td>\n    </tr>\n    <tr>\n      <th>13519</th>\n      <td>45.0</td>\n      <td>79.0</td>\n      <td>0.569620</td>\n    </tr>\n    <tr>\n      <th>13520</th>\n      <td>52.0</td>\n      <td>74.0</td>\n      <td>0.702703</td>\n    </tr>\n    <tr>\n      <th>13521</th>\n      <td>61.0</td>\n      <td>78.0</td>\n      <td>0.782051</td>\n    </tr>\n    <tr>\n      <th>13522</th>\n      <td>69.0</td>\n      <td>76.0</td>\n      <td>0.907895</td>\n    </tr>\n  </tbody>\n</table>\n<p>9765 rows × 3 columns</p>\n</div>"
     },
     "execution_count": 11,
     "metadata": {},
     "output_type": "execute_result"
    }
   ],
   "source": [
    "bundle_answers_df"
   ],
   "metadata": {
    "collapsed": false,
    "pycharm": {
     "name": "#%%\n"
    }
   }
  },
  {
   "cell_type": "code",
   "execution_count": 12,
   "outputs": [],
   "source": [
    "# 追加するデータ4 part_answers_df\n",
    "grouped_by_part_df = questions_df.groupby('part')\n",
    "\n",
    "part_answers_df = grouped_by_part_df.agg({'right_answers': 'sum', 'question_asked': 'sum'}).copy()\n",
    "\n",
    "part_answers_df.columns = ['part_right_answers', 'part_questions_asked']\n",
    "part_answers_df['part_accuracy'] = part_answers_df['part_right_answers'] / part_answers_df['part_questions_asked']"
   ],
   "metadata": {
    "collapsed": false,
    "pycharm": {
     "name": "#%%\n"
    }
   }
  },
  {
   "cell_type": "code",
   "execution_count": 13,
   "outputs": [
    {
     "data": {
      "text/plain": "      part_right_answers  part_questions_asked  part_accuracy\npart                                                         \n1               494723.0              664481.0       0.744525\n2              1189014.0             1676316.0       0.709302\n3               535774.0              762586.0       0.702575\n4               450117.0              711451.0       0.632675\n5              2200582.0             3611081.0       0.609397\n6               631060.0              944631.0       0.668049\n7               300179.0              452964.0       0.662699",
      "text/html": "<div>\n<style scoped>\n    .dataframe tbody tr th:only-of-type {\n        vertical-align: middle;\n    }\n\n    .dataframe tbody tr th {\n        vertical-align: top;\n    }\n\n    .dataframe thead th {\n        text-align: right;\n    }\n</style>\n<table border=\"1\" class=\"dataframe\">\n  <thead>\n    <tr style=\"text-align: right;\">\n      <th></th>\n      <th>part_right_answers</th>\n      <th>part_questions_asked</th>\n      <th>part_accuracy</th>\n    </tr>\n    <tr>\n      <th>part</th>\n      <th></th>\n      <th></th>\n      <th></th>\n    </tr>\n  </thead>\n  <tbody>\n    <tr>\n      <th>1</th>\n      <td>494723.0</td>\n      <td>664481.0</td>\n      <td>0.744525</td>\n    </tr>\n    <tr>\n      <th>2</th>\n      <td>1189014.0</td>\n      <td>1676316.0</td>\n      <td>0.709302</td>\n    </tr>\n    <tr>\n      <th>3</th>\n      <td>535774.0</td>\n      <td>762586.0</td>\n      <td>0.702575</td>\n    </tr>\n    <tr>\n      <th>4</th>\n      <td>450117.0</td>\n      <td>711451.0</td>\n      <td>0.632675</td>\n    </tr>\n    <tr>\n      <th>5</th>\n      <td>2200582.0</td>\n      <td>3611081.0</td>\n      <td>0.609397</td>\n    </tr>\n    <tr>\n      <th>6</th>\n      <td>631060.0</td>\n      <td>944631.0</td>\n      <td>0.668049</td>\n    </tr>\n    <tr>\n      <th>7</th>\n      <td>300179.0</td>\n      <td>452964.0</td>\n      <td>0.662699</td>\n    </tr>\n  </tbody>\n</table>\n</div>"
     },
     "execution_count": 13,
     "metadata": {},
     "output_type": "execute_result"
    }
   ],
   "source": [
    "part_answers_df"
   ],
   "metadata": {
    "collapsed": false,
    "pycharm": {
     "name": "#%%\n"
    }
   }
  },
  {
   "cell_type": "code",
   "execution_count": 14,
   "outputs": [],
   "source": [
    "# 旧\n",
    "# features = [\n",
    "#     'timestamp','mean_user_accuracy', 'questions_answered','mean_accuracy',\n",
    "#     'question_asked','prior_question_elapsed_time', 'prior_question_had_explanation',\n",
    "#     'bundle_size', 'bundle_accuracy','part_accuracy', 'right_answers'\n",
    "# ]\n",
    "\n",
    "# 新\n",
    "features = [\n",
    "    'timestamp','prior_question_elapsed_time', 'prior_question_had_explanation',\n",
    "    'mean_user_accuracy', 'questions_answered', 'std_user_accuracy',\n",
    "    'median_user_accuracy', 'skew_user_accuracy','mean_accuracy',\n",
    "    'question_asked', 'std_accuracy', 'median_accuracy', 'skew_accuracy',\n",
    "    'bundle_size','bundle_accuracy', 'part_accuracy'\n",
    "]\n",
    "\n",
    "target = 'answered_correctly'"
   ],
   "metadata": {
    "collapsed": false,
    "pycharm": {
     "name": "#%%\n"
    }
   }
  },
  {
   "cell_type": "code",
   "execution_count": 15,
   "outputs": [],
   "source": [
    "# 講義(-1)以外を抽出 train\n",
    "train_part_df = train_part_df[train_part_df[target] != -1]"
   ],
   "metadata": {
    "collapsed": false,
    "pycharm": {
     "name": "#%%\n"
    }
   }
  },
  {
   "cell_type": "code",
   "execution_count": 16,
   "outputs": [],
   "source": [
    "# user_answers_df\n",
    "train_part_df = train_part_df.merge(user_answers_df, how='left', on='user_id')\n",
    "\n",
    "# questions_df\n",
    "train_part_df = train_part_df.merge(questions_df, how='left', left_on='content_id', right_on='question_id')\n",
    "\n",
    "# bundle_answers_df\n",
    "train_part_df = train_part_df.merge(bundle_answers_df, how='left', on='bundle_id')\n",
    "\n",
    "# part_answers_df\n",
    "train_part_df = train_part_df.merge(part_answers_df, how='left', on='part')"
   ],
   "metadata": {
    "collapsed": false,
    "pycharm": {
     "name": "#%%\n"
    }
   }
  },
  {
   "cell_type": "code",
   "execution_count": 17,
   "outputs": [],
   "source": [
    "# ユーザーが質問に回答した後、説明と正しい回答を確認したかどうか 欠損値をFalseと置く、 astypeでデータ型の変換(キャスト)\n",
    "train_part_df['prior_question_had_explanation'] = train_part_df['prior_question_had_explanation'].fillna(value=False).astype(bool)\n",
    "\n",
    "train_part_df.fillna(value = -1, inplace = True)"
   ],
   "metadata": {
    "collapsed": false,
    "pycharm": {
     "name": "#%%\n"
    }
   }
  },
  {
   "cell_type": "code",
   "execution_count": 18,
   "outputs": [
    {
     "data": {
      "text/plain": "        Unnamed: 0   row_id   timestamp    user_id  content_id  \\\n0          9000000  9000000  9871729962  196122333        3992   \n1          9000001  9000001  9871801320  196122333        9510   \n2          9000002  9000002  9871852731  196122333        5214   \n3          9000003  9000003  9872436636  196122333        5334   \n4          9000004  9000004  9872617214  196122333        3722   \n...            ...      ...         ...        ...         ...   \n981089     9999995  9999995   646228695  216747867        8805   \n981090     9999996  9999996   646321314  216747867        5708   \n981091     9999997  9999997   646393443  216747867        5434   \n981092     9999998  9999998   646445632  216747867        6429   \n981093     9999999  9999999   690225760  216747867        9010   \n\n        content_type_id  task_container_id  user_answer  answered_correctly  \\\n0                     0                242            0                   1   \n1                     0                243            3                   0   \n2                     0                244            3                   1   \n3                     0                245            0                   0   \n4                     0                246            2                   1   \n...                 ...                ...          ...                 ...   \n981089                0                410            1                   1   \n981090                0                411            0                   0   \n981091                0                412            0                   0   \n981092                0                413            3                   1   \n981093                0                414            2                   1   \n\n        prior_question_elapsed_time  ...  median_accuracy  skew_accuracy  \\\n0                           19000.0  ...              1.0      -2.172419   \n1                           15000.0  ...              1.0      -0.135984   \n2                           13000.0  ...              1.0      -0.956033   \n3                           16000.0  ...              1.0      -0.745776   \n4                           16000.0  ...              1.0      -0.976647   \n...                             ...  ...              ...            ...   \n981089                      23000.0  ...              1.0      -0.446302   \n981090                      13000.0  ...              0.0       0.188495   \n981091                      66000.0  ...              1.0      -0.028372   \n981092                      37000.0  ...              1.0      -0.168422   \n981093                      16000.0  ...              1.0      -1.498063   \n\n        right_answers  bundle_size  bundle_right_answers  \\\n0               333.0            1                 333.0   \n1               229.0            1                 229.0   \n2               744.0            1                 744.0   \n3              1532.0            1                1532.0   \n4               640.0            1                 640.0   \n...               ...          ...                   ...   \n981089          339.0            1                 339.0   \n981090         2164.0            1                2164.0   \n981091          823.0            1                 823.0   \n981092         1906.0            1                1906.0   \n981093          358.0            1                 358.0   \n\n        bundle_questions_asked  bundle_accuracy  part_right_answers  \\\n0                        384.0         0.867188           2200582.0   \n1                        429.0         0.533800           2200582.0   \n2                       1040.0         0.715385           2200582.0   \n3                       2271.0         0.674593           2200582.0   \n4                        890.0         0.719101           2200582.0   \n...                        ...              ...                 ...   \n981089                   557.0         0.608618           2200582.0   \n981090                  4776.0         0.453099           2200582.0   \n981091                  1623.0         0.507086           2200582.0   \n981092                  3517.0         0.541939           2200582.0   \n981093                   448.0         0.799107           2200582.0   \n\n        part_questions_asked  part_accuracy  \n0                  3611081.0       0.609397  \n1                  3611081.0       0.609397  \n2                  3611081.0       0.609397  \n3                  3611081.0       0.609397  \n4                  3611081.0       0.609397  \n...                      ...            ...  \n981089             3611081.0       0.609397  \n981090             3611081.0       0.609397  \n981091             3611081.0       0.609397  \n981092             3611081.0       0.609397  \n981093             3611081.0       0.609397  \n\n[981094 rows x 34 columns]",
      "text/html": "<div>\n<style scoped>\n    .dataframe tbody tr th:only-of-type {\n        vertical-align: middle;\n    }\n\n    .dataframe tbody tr th {\n        vertical-align: top;\n    }\n\n    .dataframe thead th {\n        text-align: right;\n    }\n</style>\n<table border=\"1\" class=\"dataframe\">\n  <thead>\n    <tr style=\"text-align: right;\">\n      <th></th>\n      <th>Unnamed: 0</th>\n      <th>row_id</th>\n      <th>timestamp</th>\n      <th>user_id</th>\n      <th>content_id</th>\n      <th>content_type_id</th>\n      <th>task_container_id</th>\n      <th>user_answer</th>\n      <th>answered_correctly</th>\n      <th>prior_question_elapsed_time</th>\n      <th>...</th>\n      <th>median_accuracy</th>\n      <th>skew_accuracy</th>\n      <th>right_answers</th>\n      <th>bundle_size</th>\n      <th>bundle_right_answers</th>\n      <th>bundle_questions_asked</th>\n      <th>bundle_accuracy</th>\n      <th>part_right_answers</th>\n      <th>part_questions_asked</th>\n      <th>part_accuracy</th>\n    </tr>\n  </thead>\n  <tbody>\n    <tr>\n      <th>0</th>\n      <td>9000000</td>\n      <td>9000000</td>\n      <td>9871729962</td>\n      <td>196122333</td>\n      <td>3992</td>\n      <td>0</td>\n      <td>242</td>\n      <td>0</td>\n      <td>1</td>\n      <td>19000.0</td>\n      <td>...</td>\n      <td>1.0</td>\n      <td>-2.172419</td>\n      <td>333.0</td>\n      <td>1</td>\n      <td>333.0</td>\n      <td>384.0</td>\n      <td>0.867188</td>\n      <td>2200582.0</td>\n      <td>3611081.0</td>\n      <td>0.609397</td>\n    </tr>\n    <tr>\n      <th>1</th>\n      <td>9000001</td>\n      <td>9000001</td>\n      <td>9871801320</td>\n      <td>196122333</td>\n      <td>9510</td>\n      <td>0</td>\n      <td>243</td>\n      <td>3</td>\n      <td>0</td>\n      <td>15000.0</td>\n      <td>...</td>\n      <td>1.0</td>\n      <td>-0.135984</td>\n      <td>229.0</td>\n      <td>1</td>\n      <td>229.0</td>\n      <td>429.0</td>\n      <td>0.533800</td>\n      <td>2200582.0</td>\n      <td>3611081.0</td>\n      <td>0.609397</td>\n    </tr>\n    <tr>\n      <th>2</th>\n      <td>9000002</td>\n      <td>9000002</td>\n      <td>9871852731</td>\n      <td>196122333</td>\n      <td>5214</td>\n      <td>0</td>\n      <td>244</td>\n      <td>3</td>\n      <td>1</td>\n      <td>13000.0</td>\n      <td>...</td>\n      <td>1.0</td>\n      <td>-0.956033</td>\n      <td>744.0</td>\n      <td>1</td>\n      <td>744.0</td>\n      <td>1040.0</td>\n      <td>0.715385</td>\n      <td>2200582.0</td>\n      <td>3611081.0</td>\n      <td>0.609397</td>\n    </tr>\n    <tr>\n      <th>3</th>\n      <td>9000003</td>\n      <td>9000003</td>\n      <td>9872436636</td>\n      <td>196122333</td>\n      <td>5334</td>\n      <td>0</td>\n      <td>245</td>\n      <td>0</td>\n      <td>0</td>\n      <td>16000.0</td>\n      <td>...</td>\n      <td>1.0</td>\n      <td>-0.745776</td>\n      <td>1532.0</td>\n      <td>1</td>\n      <td>1532.0</td>\n      <td>2271.0</td>\n      <td>0.674593</td>\n      <td>2200582.0</td>\n      <td>3611081.0</td>\n      <td>0.609397</td>\n    </tr>\n    <tr>\n      <th>4</th>\n      <td>9000004</td>\n      <td>9000004</td>\n      <td>9872617214</td>\n      <td>196122333</td>\n      <td>3722</td>\n      <td>0</td>\n      <td>246</td>\n      <td>2</td>\n      <td>1</td>\n      <td>16000.0</td>\n      <td>...</td>\n      <td>1.0</td>\n      <td>-0.976647</td>\n      <td>640.0</td>\n      <td>1</td>\n      <td>640.0</td>\n      <td>890.0</td>\n      <td>0.719101</td>\n      <td>2200582.0</td>\n      <td>3611081.0</td>\n      <td>0.609397</td>\n    </tr>\n    <tr>\n      <th>...</th>\n      <td>...</td>\n      <td>...</td>\n      <td>...</td>\n      <td>...</td>\n      <td>...</td>\n      <td>...</td>\n      <td>...</td>\n      <td>...</td>\n      <td>...</td>\n      <td>...</td>\n      <td>...</td>\n      <td>...</td>\n      <td>...</td>\n      <td>...</td>\n      <td>...</td>\n      <td>...</td>\n      <td>...</td>\n      <td>...</td>\n      <td>...</td>\n      <td>...</td>\n      <td>...</td>\n    </tr>\n    <tr>\n      <th>981089</th>\n      <td>9999995</td>\n      <td>9999995</td>\n      <td>646228695</td>\n      <td>216747867</td>\n      <td>8805</td>\n      <td>0</td>\n      <td>410</td>\n      <td>1</td>\n      <td>1</td>\n      <td>23000.0</td>\n      <td>...</td>\n      <td>1.0</td>\n      <td>-0.446302</td>\n      <td>339.0</td>\n      <td>1</td>\n      <td>339.0</td>\n      <td>557.0</td>\n      <td>0.608618</td>\n      <td>2200582.0</td>\n      <td>3611081.0</td>\n      <td>0.609397</td>\n    </tr>\n    <tr>\n      <th>981090</th>\n      <td>9999996</td>\n      <td>9999996</td>\n      <td>646321314</td>\n      <td>216747867</td>\n      <td>5708</td>\n      <td>0</td>\n      <td>411</td>\n      <td>0</td>\n      <td>0</td>\n      <td>13000.0</td>\n      <td>...</td>\n      <td>0.0</td>\n      <td>0.188495</td>\n      <td>2164.0</td>\n      <td>1</td>\n      <td>2164.0</td>\n      <td>4776.0</td>\n      <td>0.453099</td>\n      <td>2200582.0</td>\n      <td>3611081.0</td>\n      <td>0.609397</td>\n    </tr>\n    <tr>\n      <th>981091</th>\n      <td>9999997</td>\n      <td>9999997</td>\n      <td>646393443</td>\n      <td>216747867</td>\n      <td>5434</td>\n      <td>0</td>\n      <td>412</td>\n      <td>0</td>\n      <td>0</td>\n      <td>66000.0</td>\n      <td>...</td>\n      <td>1.0</td>\n      <td>-0.028372</td>\n      <td>823.0</td>\n      <td>1</td>\n      <td>823.0</td>\n      <td>1623.0</td>\n      <td>0.507086</td>\n      <td>2200582.0</td>\n      <td>3611081.0</td>\n      <td>0.609397</td>\n    </tr>\n    <tr>\n      <th>981092</th>\n      <td>9999998</td>\n      <td>9999998</td>\n      <td>646445632</td>\n      <td>216747867</td>\n      <td>6429</td>\n      <td>0</td>\n      <td>413</td>\n      <td>3</td>\n      <td>1</td>\n      <td>37000.0</td>\n      <td>...</td>\n      <td>1.0</td>\n      <td>-0.168422</td>\n      <td>1906.0</td>\n      <td>1</td>\n      <td>1906.0</td>\n      <td>3517.0</td>\n      <td>0.541939</td>\n      <td>2200582.0</td>\n      <td>3611081.0</td>\n      <td>0.609397</td>\n    </tr>\n    <tr>\n      <th>981093</th>\n      <td>9999999</td>\n      <td>9999999</td>\n      <td>690225760</td>\n      <td>216747867</td>\n      <td>9010</td>\n      <td>0</td>\n      <td>414</td>\n      <td>2</td>\n      <td>1</td>\n      <td>16000.0</td>\n      <td>...</td>\n      <td>1.0</td>\n      <td>-1.498063</td>\n      <td>358.0</td>\n      <td>1</td>\n      <td>358.0</td>\n      <td>448.0</td>\n      <td>0.799107</td>\n      <td>2200582.0</td>\n      <td>3611081.0</td>\n      <td>0.609397</td>\n    </tr>\n  </tbody>\n</table>\n<p>981094 rows × 34 columns</p>\n</div>"
     },
     "execution_count": 18,
     "metadata": {},
     "output_type": "execute_result"
    }
   ],
   "source": [
    "train_part_df"
   ],
   "metadata": {
    "collapsed": false,
    "pycharm": {
     "name": "#%%\n"
    }
   }
  },
  {
   "cell_type": "code",
   "execution_count": 19,
   "outputs": [
    {
     "data": {
      "text/plain": "Index(['Unnamed: 0', 'row_id', 'timestamp', 'user_id', 'content_id',\n       'content_type_id', 'task_container_id', 'user_answer',\n       'answered_correctly', 'prior_question_elapsed_time',\n       'prior_question_had_explanation', 'mean_user_accuracy',\n       'questions_answered', 'std_user_accuracy', 'median_user_accuracy',\n       'skew_user_accuracy', 'question_id', 'bundle_id', 'correct_answer',\n       'part', 'tags', 'mean_accuracy', 'question_asked', 'std_accuracy',\n       'median_accuracy', 'skew_accuracy', 'right_answers', 'bundle_size',\n       'bundle_right_answers', 'bundle_questions_asked', 'bundle_accuracy',\n       'part_right_answers', 'part_questions_asked', 'part_accuracy'],\n      dtype='object')"
     },
     "execution_count": 19,
     "metadata": {},
     "output_type": "execute_result"
    }
   ],
   "source": [
    "train_part_df.columns"
   ],
   "metadata": {
    "collapsed": false,
    "pycharm": {
     "name": "#%%\n"
    }
   }
  },
  {
   "cell_type": "code",
   "execution_count": 20,
   "outputs": [],
   "source": [
    "X_train = train_part_df[features]\n",
    "y_train = train_part_df[target]"
   ],
   "metadata": {
    "collapsed": false,
    "pycharm": {
     "name": "#%%\n"
    }
   }
  },
  {
   "cell_type": "code",
   "execution_count": 21,
   "outputs": [
    {
     "data": {
      "text/plain": "         timestamp  prior_question_elapsed_time  \\\n0       9871729962                      19000.0   \n1       9871801320                      15000.0   \n2       9871852731                      13000.0   \n3       9872436636                      16000.0   \n4       9872617214                      16000.0   \n...            ...                          ...   \n981089   646228695                      23000.0   \n981090   646321314                      13000.0   \n981091   646393443                      66000.0   \n981092   646445632                      37000.0   \n981093   690225760                      16000.0   \n\n        prior_question_had_explanation  mean_user_accuracy  \\\n0                                 True            0.611722   \n1                                 True            0.611722   \n2                                 True            0.611722   \n3                                 True            0.611722   \n4                                 True            0.611722   \n...                                ...                 ...   \n981089                            True           -1.000000   \n981090                            True           -1.000000   \n981091                            True           -1.000000   \n981092                            True           -1.000000   \n981093                            True           -1.000000   \n\n        questions_answered  std_user_accuracy  median_user_accuracy  \\\n0                    273.0           0.488254                   1.0   \n1                    273.0           0.488254                   1.0   \n2                    273.0           0.488254                   1.0   \n3                    273.0           0.488254                   1.0   \n4                    273.0           0.488254                   1.0   \n...                    ...                ...                   ...   \n981089                -1.0          -1.000000                  -1.0   \n981090                -1.0          -1.000000                  -1.0   \n981091                -1.0          -1.000000                  -1.0   \n981092                -1.0          -1.000000                  -1.0   \n981093                -1.0          -1.000000                  -1.0   \n\n        skew_user_accuracy  mean_accuracy  question_asked  std_accuracy  \\\n0                -0.461015       0.867188           384.0      0.339815   \n1                -0.461015       0.533800           429.0      0.499439   \n2                -0.461015       0.715385          1040.0      0.451448   \n3                -0.461015       0.674593          2271.0      0.468630   \n4                -0.461015       0.719101           890.0      0.449691   \n...                    ...            ...             ...           ...   \n981089           -1.000000       0.608618           557.0      0.488498   \n981090           -1.000000       0.453099          4776.0      0.497848   \n981091           -1.000000       0.507086          1623.0      0.500104   \n981092           -1.000000       0.541939          3517.0      0.498309   \n981093           -1.000000       0.799107           448.0      0.401116   \n\n        median_accuracy  skew_accuracy  bundle_size  bundle_accuracy  \\\n0                   1.0      -2.172419            1         0.867188   \n1                   1.0      -0.135984            1         0.533800   \n2                   1.0      -0.956033            1         0.715385   \n3                   1.0      -0.745776            1         0.674593   \n4                   1.0      -0.976647            1         0.719101   \n...                 ...            ...          ...              ...   \n981089              1.0      -0.446302            1         0.608618   \n981090              0.0       0.188495            1         0.453099   \n981091              1.0      -0.028372            1         0.507086   \n981092              1.0      -0.168422            1         0.541939   \n981093              1.0      -1.498063            1         0.799107   \n\n        part_accuracy  \n0            0.609397  \n1            0.609397  \n2            0.609397  \n3            0.609397  \n4            0.609397  \n...               ...  \n981089       0.609397  \n981090       0.609397  \n981091       0.609397  \n981092       0.609397  \n981093       0.609397  \n\n[981094 rows x 16 columns]",
      "text/html": "<div>\n<style scoped>\n    .dataframe tbody tr th:only-of-type {\n        vertical-align: middle;\n    }\n\n    .dataframe tbody tr th {\n        vertical-align: top;\n    }\n\n    .dataframe thead th {\n        text-align: right;\n    }\n</style>\n<table border=\"1\" class=\"dataframe\">\n  <thead>\n    <tr style=\"text-align: right;\">\n      <th></th>\n      <th>timestamp</th>\n      <th>prior_question_elapsed_time</th>\n      <th>prior_question_had_explanation</th>\n      <th>mean_user_accuracy</th>\n      <th>questions_answered</th>\n      <th>std_user_accuracy</th>\n      <th>median_user_accuracy</th>\n      <th>skew_user_accuracy</th>\n      <th>mean_accuracy</th>\n      <th>question_asked</th>\n      <th>std_accuracy</th>\n      <th>median_accuracy</th>\n      <th>skew_accuracy</th>\n      <th>bundle_size</th>\n      <th>bundle_accuracy</th>\n      <th>part_accuracy</th>\n    </tr>\n  </thead>\n  <tbody>\n    <tr>\n      <th>0</th>\n      <td>9871729962</td>\n      <td>19000.0</td>\n      <td>True</td>\n      <td>0.611722</td>\n      <td>273.0</td>\n      <td>0.488254</td>\n      <td>1.0</td>\n      <td>-0.461015</td>\n      <td>0.867188</td>\n      <td>384.0</td>\n      <td>0.339815</td>\n      <td>1.0</td>\n      <td>-2.172419</td>\n      <td>1</td>\n      <td>0.867188</td>\n      <td>0.609397</td>\n    </tr>\n    <tr>\n      <th>1</th>\n      <td>9871801320</td>\n      <td>15000.0</td>\n      <td>True</td>\n      <td>0.611722</td>\n      <td>273.0</td>\n      <td>0.488254</td>\n      <td>1.0</td>\n      <td>-0.461015</td>\n      <td>0.533800</td>\n      <td>429.0</td>\n      <td>0.499439</td>\n      <td>1.0</td>\n      <td>-0.135984</td>\n      <td>1</td>\n      <td>0.533800</td>\n      <td>0.609397</td>\n    </tr>\n    <tr>\n      <th>2</th>\n      <td>9871852731</td>\n      <td>13000.0</td>\n      <td>True</td>\n      <td>0.611722</td>\n      <td>273.0</td>\n      <td>0.488254</td>\n      <td>1.0</td>\n      <td>-0.461015</td>\n      <td>0.715385</td>\n      <td>1040.0</td>\n      <td>0.451448</td>\n      <td>1.0</td>\n      <td>-0.956033</td>\n      <td>1</td>\n      <td>0.715385</td>\n      <td>0.609397</td>\n    </tr>\n    <tr>\n      <th>3</th>\n      <td>9872436636</td>\n      <td>16000.0</td>\n      <td>True</td>\n      <td>0.611722</td>\n      <td>273.0</td>\n      <td>0.488254</td>\n      <td>1.0</td>\n      <td>-0.461015</td>\n      <td>0.674593</td>\n      <td>2271.0</td>\n      <td>0.468630</td>\n      <td>1.0</td>\n      <td>-0.745776</td>\n      <td>1</td>\n      <td>0.674593</td>\n      <td>0.609397</td>\n    </tr>\n    <tr>\n      <th>4</th>\n      <td>9872617214</td>\n      <td>16000.0</td>\n      <td>True</td>\n      <td>0.611722</td>\n      <td>273.0</td>\n      <td>0.488254</td>\n      <td>1.0</td>\n      <td>-0.461015</td>\n      <td>0.719101</td>\n      <td>890.0</td>\n      <td>0.449691</td>\n      <td>1.0</td>\n      <td>-0.976647</td>\n      <td>1</td>\n      <td>0.719101</td>\n      <td>0.609397</td>\n    </tr>\n    <tr>\n      <th>...</th>\n      <td>...</td>\n      <td>...</td>\n      <td>...</td>\n      <td>...</td>\n      <td>...</td>\n      <td>...</td>\n      <td>...</td>\n      <td>...</td>\n      <td>...</td>\n      <td>...</td>\n      <td>...</td>\n      <td>...</td>\n      <td>...</td>\n      <td>...</td>\n      <td>...</td>\n      <td>...</td>\n    </tr>\n    <tr>\n      <th>981089</th>\n      <td>646228695</td>\n      <td>23000.0</td>\n      <td>True</td>\n      <td>-1.000000</td>\n      <td>-1.0</td>\n      <td>-1.000000</td>\n      <td>-1.0</td>\n      <td>-1.000000</td>\n      <td>0.608618</td>\n      <td>557.0</td>\n      <td>0.488498</td>\n      <td>1.0</td>\n      <td>-0.446302</td>\n      <td>1</td>\n      <td>0.608618</td>\n      <td>0.609397</td>\n    </tr>\n    <tr>\n      <th>981090</th>\n      <td>646321314</td>\n      <td>13000.0</td>\n      <td>True</td>\n      <td>-1.000000</td>\n      <td>-1.0</td>\n      <td>-1.000000</td>\n      <td>-1.0</td>\n      <td>-1.000000</td>\n      <td>0.453099</td>\n      <td>4776.0</td>\n      <td>0.497848</td>\n      <td>0.0</td>\n      <td>0.188495</td>\n      <td>1</td>\n      <td>0.453099</td>\n      <td>0.609397</td>\n    </tr>\n    <tr>\n      <th>981091</th>\n      <td>646393443</td>\n      <td>66000.0</td>\n      <td>True</td>\n      <td>-1.000000</td>\n      <td>-1.0</td>\n      <td>-1.000000</td>\n      <td>-1.0</td>\n      <td>-1.000000</td>\n      <td>0.507086</td>\n      <td>1623.0</td>\n      <td>0.500104</td>\n      <td>1.0</td>\n      <td>-0.028372</td>\n      <td>1</td>\n      <td>0.507086</td>\n      <td>0.609397</td>\n    </tr>\n    <tr>\n      <th>981092</th>\n      <td>646445632</td>\n      <td>37000.0</td>\n      <td>True</td>\n      <td>-1.000000</td>\n      <td>-1.0</td>\n      <td>-1.000000</td>\n      <td>-1.0</td>\n      <td>-1.000000</td>\n      <td>0.541939</td>\n      <td>3517.0</td>\n      <td>0.498309</td>\n      <td>1.0</td>\n      <td>-0.168422</td>\n      <td>1</td>\n      <td>0.541939</td>\n      <td>0.609397</td>\n    </tr>\n    <tr>\n      <th>981093</th>\n      <td>690225760</td>\n      <td>16000.0</td>\n      <td>True</td>\n      <td>-1.000000</td>\n      <td>-1.0</td>\n      <td>-1.000000</td>\n      <td>-1.0</td>\n      <td>-1.000000</td>\n      <td>0.799107</td>\n      <td>448.0</td>\n      <td>0.401116</td>\n      <td>1.0</td>\n      <td>-1.498063</td>\n      <td>1</td>\n      <td>0.799107</td>\n      <td>0.609397</td>\n    </tr>\n  </tbody>\n</table>\n<p>981094 rows × 16 columns</p>\n</div>"
     },
     "execution_count": 21,
     "metadata": {},
     "output_type": "execute_result"
    }
   ],
   "source": [
    "X_train"
   ],
   "metadata": {
    "collapsed": false,
    "pycharm": {
     "name": "#%%\n"
    }
   }
  },
  {
   "cell_type": "code",
   "execution_count": 22,
   "outputs": [
    {
     "name": "stdout",
     "output_type": "stream",
     "text": [
      "[0]\tvalidation_0-rmse:0.46846\tvalidation_1-rmse:0.46665\n",
      "Multiple eval metrics have been passed: 'validation_1-rmse' will be used for early stopping.\n",
      "\n",
      "Will train until validation_1-rmse hasn't improved in 50 rounds.\n",
      "[1]\tvalidation_0-rmse:0.45212\tvalidation_1-rmse:0.44869\n",
      "[2]\tvalidation_0-rmse:0.44389\tvalidation_1-rmse:0.43925\n",
      "[3]\tvalidation_0-rmse:0.43960\tvalidation_1-rmse:0.43416\n",
      "[4]\tvalidation_0-rmse:0.43745\tvalidation_1-rmse:0.43150\n",
      "[5]\tvalidation_0-rmse:0.43638\tvalidation_1-rmse:0.43004\n",
      "[6]\tvalidation_0-rmse:0.43581\tvalidation_1-rmse:0.42920\n",
      "[7]\tvalidation_0-rmse:0.43542\tvalidation_1-rmse:0.42877\n",
      "[8]\tvalidation_0-rmse:0.43520\tvalidation_1-rmse:0.42847\n",
      "[9]\tvalidation_0-rmse:0.43501\tvalidation_1-rmse:0.42834\n",
      "[10]\tvalidation_0-rmse:0.43486\tvalidation_1-rmse:0.42826\n",
      "[11]\tvalidation_0-rmse:0.43477\tvalidation_1-rmse:0.42817\n",
      "[12]\tvalidation_0-rmse:0.43469\tvalidation_1-rmse:0.42817\n",
      "[13]\tvalidation_0-rmse:0.43457\tvalidation_1-rmse:0.42818\n",
      "[14]\tvalidation_0-rmse:0.43449\tvalidation_1-rmse:0.42817\n",
      "[15]\tvalidation_0-rmse:0.43439\tvalidation_1-rmse:0.42819\n",
      "[16]\tvalidation_0-rmse:0.43433\tvalidation_1-rmse:0.42817\n",
      "[17]\tvalidation_0-rmse:0.43425\tvalidation_1-rmse:0.42814\n",
      "[18]\tvalidation_0-rmse:0.43419\tvalidation_1-rmse:0.42815\n",
      "[19]\tvalidation_0-rmse:0.43409\tvalidation_1-rmse:0.42819\n",
      "[20]\tvalidation_0-rmse:0.43399\tvalidation_1-rmse:0.42822\n",
      "[21]\tvalidation_0-rmse:0.43391\tvalidation_1-rmse:0.42825\n",
      "[22]\tvalidation_0-rmse:0.43386\tvalidation_1-rmse:0.42828\n",
      "[23]\tvalidation_0-rmse:0.43381\tvalidation_1-rmse:0.42830\n",
      "[24]\tvalidation_0-rmse:0.43378\tvalidation_1-rmse:0.42829\n",
      "[25]\tvalidation_0-rmse:0.43374\tvalidation_1-rmse:0.42830\n",
      "[26]\tvalidation_0-rmse:0.43369\tvalidation_1-rmse:0.42832\n",
      "[27]\tvalidation_0-rmse:0.43362\tvalidation_1-rmse:0.42833\n",
      "[28]\tvalidation_0-rmse:0.43359\tvalidation_1-rmse:0.42832\n",
      "[29]\tvalidation_0-rmse:0.43352\tvalidation_1-rmse:0.42837\n",
      "[30]\tvalidation_0-rmse:0.43346\tvalidation_1-rmse:0.42845\n",
      "[31]\tvalidation_0-rmse:0.43343\tvalidation_1-rmse:0.42845\n",
      "[32]\tvalidation_0-rmse:0.43335\tvalidation_1-rmse:0.42847\n",
      "[33]\tvalidation_0-rmse:0.43332\tvalidation_1-rmse:0.42847\n",
      "[34]\tvalidation_0-rmse:0.43329\tvalidation_1-rmse:0.42847\n",
      "[35]\tvalidation_0-rmse:0.43324\tvalidation_1-rmse:0.42848\n",
      "[36]\tvalidation_0-rmse:0.43320\tvalidation_1-rmse:0.42849\n",
      "[37]\tvalidation_0-rmse:0.43317\tvalidation_1-rmse:0.42849\n",
      "[38]\tvalidation_0-rmse:0.43311\tvalidation_1-rmse:0.42850\n",
      "[39]\tvalidation_0-rmse:0.43309\tvalidation_1-rmse:0.42853\n",
      "[40]\tvalidation_0-rmse:0.43307\tvalidation_1-rmse:0.42853\n",
      "[41]\tvalidation_0-rmse:0.43303\tvalidation_1-rmse:0.42853\n",
      "[42]\tvalidation_0-rmse:0.43299\tvalidation_1-rmse:0.42854\n",
      "[43]\tvalidation_0-rmse:0.43294\tvalidation_1-rmse:0.42856\n",
      "[44]\tvalidation_0-rmse:0.43292\tvalidation_1-rmse:0.42856\n",
      "[45]\tvalidation_0-rmse:0.43290\tvalidation_1-rmse:0.42856\n",
      "[46]\tvalidation_0-rmse:0.43285\tvalidation_1-rmse:0.42859\n",
      "[47]\tvalidation_0-rmse:0.43281\tvalidation_1-rmse:0.42860\n",
      "[48]\tvalidation_0-rmse:0.43273\tvalidation_1-rmse:0.42862\n",
      "[49]\tvalidation_0-rmse:0.43269\tvalidation_1-rmse:0.42866\n",
      "[50]\tvalidation_0-rmse:0.43260\tvalidation_1-rmse:0.42871\n",
      "[51]\tvalidation_0-rmse:0.43256\tvalidation_1-rmse:0.42874\n",
      "[52]\tvalidation_0-rmse:0.43250\tvalidation_1-rmse:0.42874\n",
      "[53]\tvalidation_0-rmse:0.43244\tvalidation_1-rmse:0.42875\n",
      "[54]\tvalidation_0-rmse:0.43240\tvalidation_1-rmse:0.42876\n",
      "[55]\tvalidation_0-rmse:0.43236\tvalidation_1-rmse:0.42879\n",
      "[56]\tvalidation_0-rmse:0.43231\tvalidation_1-rmse:0.42881\n",
      "[57]\tvalidation_0-rmse:0.43226\tvalidation_1-rmse:0.42883\n",
      "[58]\tvalidation_0-rmse:0.43222\tvalidation_1-rmse:0.42884\n",
      "[59]\tvalidation_0-rmse:0.43218\tvalidation_1-rmse:0.42884\n",
      "[60]\tvalidation_0-rmse:0.43215\tvalidation_1-rmse:0.42885\n",
      "[61]\tvalidation_0-rmse:0.43210\tvalidation_1-rmse:0.42885\n",
      "[62]\tvalidation_0-rmse:0.43205\tvalidation_1-rmse:0.42882\n",
      "[63]\tvalidation_0-rmse:0.43204\tvalidation_1-rmse:0.42883\n",
      "[64]\tvalidation_0-rmse:0.43203\tvalidation_1-rmse:0.42883\n",
      "[65]\tvalidation_0-rmse:0.43200\tvalidation_1-rmse:0.42881\n",
      "[66]\tvalidation_0-rmse:0.43194\tvalidation_1-rmse:0.42881\n",
      "[67]\tvalidation_0-rmse:0.43193\tvalidation_1-rmse:0.42881\n",
      "Stopping. Best iteration:\n",
      "[17]\tvalidation_0-rmse:0.43425\tvalidation_1-rmse:0.42814\n",
      "\n"
     ]
    }
   ],
   "source": [
    "models = []\n",
    "oof_train = np.zeros(len(X_train),) ### array([0., 0., 0., ..., 0., 0., 0.])\n",
    "categorical_features = ['prior_question_had_explanation']\n",
    "\n",
    "params = {\n",
    "    'objective': 'binary',\n",
    "    'max_bin': 300,\n",
    "    'learning_rate': 0.05,\n",
    "    'num_leaves': 40\n",
    "}\n",
    "\n",
    "n_tr = round(981094 * 0.9)\n",
    "\n",
    "X_tr = X_train[:n_tr]\n",
    "X_val = X_train[n_tr:]\n",
    "\n",
    "Y_tr = y_train[:n_tr]\n",
    "Y_val = y_train[n_tr:]\n",
    "\n",
    "reg = xgb.XGBRegressor(n_estimators=1000)\n",
    "reg.fit(X_tr, Y_tr,\n",
    "        eval_set=[(X_tr, Y_tr), (X_val, Y_val)],\n",
    "        early_stopping_rounds=50,\n",
    "        verbose=True)\n",
    "\n",
    "\n",
    "oof_train = reg.predict(X_val,)\n",
    "\n",
    "models.append(reg)"
   ],
   "metadata": {
    "collapsed": false,
    "pycharm": {
     "name": "#%%\n"
    }
   }
  },
  {
   "cell_type": "code",
   "execution_count": 23,
   "outputs": [
    {
     "data": {
      "text/plain": "0.73189572128871"
     },
     "execution_count": 23,
     "metadata": {},
     "output_type": "execute_result"
    }
   ],
   "source": [
    "# ROC曲線のAUCスコア・・・曲線下の面積を意味するらしい。\n",
    "roc_auc_score(Y_val, oof_train)"
   ],
   "metadata": {
    "collapsed": false,
    "pycharm": {
     "name": "#%%\n"
    }
   }
  },
  {
   "cell_type": "code",
   "execution_count": 24,
   "outputs": [],
   "source": [
    "#@iter_test = env.iter_test()"
   ],
   "metadata": {
    "collapsed": false,
    "pycharm": {
     "name": "#%%\n"
    }
   }
  },
  {
   "cell_type": "code",
   "execution_count": 25,
   "outputs": [],
   "source": [
    "#for (test_df, sample_prediction_df) in iter_test:\n",
    "#    y_preds = []\n",
    "\n",
    "#    test_df = test_df.merge(user_answers_df, how = 'left', on = 'user_id')\n",
    "#    test_df = test_df.merge(questions_df, how = 'left', left_on = 'content_id', right_on = 'question_id')\n",
    "#    test_df = test_df.merge(bundle_answers_df, how = 'left', on = 'bundle_id')\n",
    "#    test_df = test_df.merge(part_answers_df, how = 'left', on = 'part')\n",
    "\n",
    "#    test_df['prior_question_had_explanation'] = test_df['prior_question_had_explanation'].fillna(value = False).astype(bool)\n",
    "#    test_df.fillna(value = -1, inplace = True)\n",
    "#    X_test = test_df[features]\n",
    "\n",
    "#    for model in models:\n",
    "#        y_pred = model.predict(X_test, num_iteration=model.best_iteration)\n",
    "#        y_preds.append(y_pred)\n",
    "\n",
    "#    y_preds = sum(y_preds) / len(y_preds)\n",
    "#    test_df['answered_correctly'] = y_preds\n",
    "#    env.predict(test_df.loc[test_df['content_type_id'] == 0, ['row_id', 'answered_correctly']])"
   ],
   "metadata": {
    "collapsed": false,
    "pycharm": {
     "name": "#%%\n"
    }
   }
  },
  {
   "cell_type": "markdown",
   "source": [
    "## discussion"
   ],
   "metadata": {
    "collapsed": false
   }
  },
  {
   "cell_type": "markdown",
   "source": [
    "* Knowledge tracing (KT)について\n",
    "\n",
    "Knowledge tracing (KT) refers to the problem of predicting future learner performance given their past performance in educational applications\n",
    "\n",
    "Each student's knowledge is modeled by estimating the performance of the student on the learning activities.\n",
    "\n",
    "KnowledgeTracing、EdNet, Artificial Intelligence in Education (AIEd)に関する記事\n",
    "https://www.kaggle.com/c/riiid-test-answer-prediction/discussion/188911\n",
    "\n",
    "* 時制に関して\n",
    "\n",
    "時制データには、ターゲットエンコーディングをすることが重要。(https://maxhalford.github.io/blog/pandas-tricks/#target-encoding-for-time-series)\n",
    "\n",
    "ターゲットエンコーディングについて (https://maxhalford.github.io/blog/target-encoding/)\n",
    "\n",
    "The one thing I do in every time series competition is target encoding. In short, the goal of target encoding is to replace a category by the average of the target values of the rows that belong to said category. Naturally, you’re not limited to using an average. You can also use Bayesian target encoding if some of your categories are rare.\n",
    "\n",
    "Target encoding is very important for time series data. It has been used in almost every top model on Kaggle time series competitions, such as ASHRAE, Recruit Restaurants, and Wikipedia Web Traffic. When you do target encoding on temporal data, you need to be wary of not leaking current and future information into the aggregate of each row. Basically, you need to shift the target values within each group backwards. Indeed, for any given moment, we want our aggregate to pertain to past data only.\n",
    "\n",
    "参考ディスカション (https://www.kaggle.com/c/riiid-test-answer-prediction/discussion/189437)\n",
    "\n",
    "* Timestamp と prior_question_elaped_time について\n",
    "\n",
    "https://www.kaggle.com/c/riiid-test-answer-prediction/discussion/189351\n",
    "　"
   ],
   "metadata": {
    "collapsed": false
   }
  },
  {
   "cell_type": "code",
   "execution_count": 25,
   "outputs": [],
   "source": [
    "\n"
   ],
   "metadata": {
    "collapsed": false,
    "pycharm": {
     "name": "#%%\n"
    }
   }
  }
 ],
 "metadata": {
  "kernelspec": {
   "display_name": "Python 3",
   "language": "python",
   "name": "python3"
  },
  "language_info": {
   "codemirror_mode": {
    "name": "ipython",
    "version": 2
   },
   "file_extension": ".py",
   "mimetype": "text/x-python",
   "name": "python",
   "nbconvert_exporter": "python",
   "pygments_lexer": "ipython2",
   "version": "2.7.6"
  }
 },
 "nbformat": 4,
 "nbformat_minor": 0
}