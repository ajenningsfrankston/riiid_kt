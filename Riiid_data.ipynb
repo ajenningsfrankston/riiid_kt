{
  "nbformat": 4,
  "nbformat_minor": 0,
  "metadata": {
    "colab": {
      "name": "Riiid_data.ipynb",
      "provenance": [],
      "authorship_tag": "ABX9TyOZacdWS+/cvUqDN7X7IPHv",
      "include_colab_link": true
    },
    "kernelspec": {
      "name": "python3",
      "display_name": "Python 3"
    }
  },
  "cells": [
    {
      "cell_type": "markdown",
      "metadata": {
        "id": "view-in-github",
        "colab_type": "text"
      },
      "source": [
        "<a href=\"https://colab.research.google.com/github/ajenningsfrankston/riiid_kt/blob/master/Riiid_data.ipynb\" target=\"_parent\"><img src=\"https://colab.research.google.com/assets/colab-badge.svg\" alt=\"Open In Colab\"/></a>"
      ]
    },
    {
      "cell_type": "code",
      "metadata": {
        "id": "hso9bWAKI-zZ",
        "colab": {
          "base_uri": "https://localhost:8080/"
        },
        "outputId": "55336db5-d781-4723-9565-874bbb214f90"
      },
      "source": [
        "!pip install -q kaggle\n",
        "\n",
        "from google.colab import drive\n",
        "drive.mount('/content/gdrive')"
      ],
      "execution_count": 1,
      "outputs": [
        {
          "output_type": "stream",
          "text": [
            "Mounted at /content/gdrive\n"
          ],
          "name": "stdout"
        }
      ]
    },
    {
      "cell_type": "code",
      "metadata": {
        "id": "pgWe81ResnEk"
      },
      "source": [
        "import os\n",
        "os.environ['KAGGLE_CONFIG_DIR'] = \"/content/gdrive/My Drive/Kaggle\"\n"
      ],
      "execution_count": 2,
      "outputs": []
    },
    {
      "cell_type": "code",
      "metadata": {
        "id": "eBNjbOznsv7G",
        "colab": {
          "base_uri": "https://localhost:8080/"
        },
        "outputId": "cb76db0c-cf61-45ae-a2cb-88f815ae1209"
      },
      "source": [
        "#changing the working directory\n",
        "%cd /content/gdrive/My Drive/Kaggle\n"
      ],
      "execution_count": 3,
      "outputs": [
        {
          "output_type": "stream",
          "text": [
            "/content/gdrive/My Drive/Kaggle\n"
          ],
          "name": "stdout"
        }
      ]
    },
    {
      "cell_type": "code",
      "metadata": {
        "id": "AEpQb7ais1dT",
        "colab": {
          "base_uri": "https://localhost:8080/"
        },
        "outputId": "de4be4b8-e9fe-4e44-fc5d-3e31f805038e"
      },
      "source": [
        "#!kaggle competitions download --force -c riiid-test-answer-prediction \n",
        "\n"
      ],
      "execution_count": 10,
      "outputs": [
        {
          "output_type": "stream",
          "text": [
            "Warning: Looks like you're using an outdated API Version, please consider updating (server 1.5.9 / client 1.5.4)\n",
            "Downloading __init__.py to /content/gdrive/My Drive/Kaggle\n",
            "100% 59.0/59.0 [00:00<00:00, 92.8B/s]\n",
            "\n",
            "Downloading competition.cpython-37m-x86_64-linux-gnu.so to /content/gdrive/My Drive/Kaggle\n",
            "100% 445k/445k [00:00<00:00, 1.92MB/s]\n",
            "\n",
            "Downloading lectures.csv to /content/gdrive/My Drive/Kaggle\n",
            "100% 9.48k/9.48k [00:00<00:00, 44.1kB/s]\n",
            "\n",
            "Downloading train.csv.zip to /content/gdrive/My Drive/Kaggle\n",
            "100% 1.29G/1.29G [00:35<00:00, 87.4MB/s]\n",
            "100% 1.29G/1.29G [00:35<00:00, 38.7MB/s]\n",
            "Downloading example_sample_submission.csv to /content/gdrive/My Drive/Kaggle\n",
            "100% 971/971 [00:00<00:00, 5.99kB/s]\n",
            "\n",
            "Downloading questions.csv to /content/gdrive/My Drive/Kaggle\n",
            "100% 289k/289k [00:00<00:00, 1.67MB/s]\n",
            "\n",
            "Downloading example_test.csv to /content/gdrive/My Drive/Kaggle\n",
            "100% 5.99k/5.99k [00:00<00:00, 38.1kB/s]\n",
            "\n"
          ],
          "name": "stdout"
        }
      ]
    },
    {
      "cell_type": "code",
      "metadata": {
        "id": "FEySuR069tBs"
      },
      "source": [
        "import os\n",
        "\n",
        "if not os.path.exists('../input/riiid-test-answer-prediction'):\n",
        "    os.makedirs('../input/riiid-test-answer-prediction')\n",
        "\n",
        "import zipfile\n",
        "\n",
        "with zipfile.ZipFile('train.csv.zip', 'r') as zip_ref:\n",
        "    zip_ref.extractall('../input/riiid-test-answer-prediction')\n",
        "\n"
      ],
      "execution_count": 20,
      "outputs": []
    },
    {
      "cell_type": "code",
      "metadata": {
        "colab": {
          "base_uri": "https://localhost:8080/"
        },
        "id": "y0PQog2tBOM4",
        "outputId": "426e22ba-c512-4a24-e113-ae91af21720d"
      },
      "source": [
        "import shutil\n",
        "    \n",
        "source_dir = './'\n",
        "target_dir = '../input/riiid-test-answer-prediction'\n",
        "    \n",
        "file_names = ['lectures.csv','questions.csv','example_test.csv','example_sample_submission.csv']\n",
        "    \n",
        "for file_name in file_names:\n",
        "    if not os.path.exists(target_dir + '/' + file_name):\n",
        "        shutil.move(os.path.join(source_dir, file_name), target_dir)\n",
        "\n",
        "os.listdir('../input/riiid-test-answer-prediction')"
      ],
      "execution_count": 25,
      "outputs": [
        {
          "output_type": "execute_result",
          "data": {
            "text/plain": [
              "['example_sample_submission.csv',\n",
              " 'example_test.csv',\n",
              " 'lectures.csv',\n",
              " 'questions.csv',\n",
              " 'train.csv']"
            ]
          },
          "metadata": {
            "tags": []
          },
          "execution_count": 25
        }
      ]
    }
  ]
}