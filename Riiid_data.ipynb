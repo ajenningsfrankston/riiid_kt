{
  "nbformat": 4,
  "nbformat_minor": 0,
  "metadata": {
    "colab": {
      "name": "Riiid_data.ipynb",
      "provenance": [],
      "collapsed_sections": [],
      "authorship_tag": "ABX9TyPx+SoVn9w81aMe9kVwxv+H",
      "include_colab_link": true
    },
    "kernelspec": {
      "name": "python3",
      "display_name": "Python 3"
    }
  },
  "cells": [
    {
      "cell_type": "markdown",
      "metadata": {
        "id": "view-in-github",
        "colab_type": "text"
      },
      "source": [
        "<a href=\"https://colab.research.google.com/github/ajenningsfrankston/riiid_kt/blob/master/Riiid_data.ipynb\" target=\"_parent\"><img src=\"https://colab.research.google.com/assets/colab-badge.svg\" alt=\"Open In Colab\"/></a>"
      ]
    },
    {
      "cell_type": "code",
      "metadata": {
        "id": "tMqcqV89tLs-"
      },
      "source": [
        "import pandas as pd\n",
        "import numpy as np\n",
        "from sklearn.metrics import roc_auc_score\n",
        "\n",
        "import os,shutil, random \n",
        "import feather\n",
        "\n"
      ],
      "execution_count": 2,
      "outputs": []
    },
    {
      "cell_type": "code",
      "metadata": {
        "colab": {
          "base_uri": "https://localhost:8080/"
        },
        "id": "IcaPFhBUpLYF",
        "outputId": "0eca9e1e-e263-401d-9c04-ed36da40e144"
      },
      "source": [
        "!pip install -q kaggle\n",
        "\n",
        "from google.colab import drive\n",
        "drive.mount('/content/gdrive')\n",
        "\n",
        "import os\n",
        "os.environ['KAGGLE_CONFIG_DIR'] = \"/content/gdrive/My Drive/Kaggle\"\n",
        "\n",
        "!kaggle competitions download  -c riiid-test-answer-prediction \n"
      ],
      "execution_count": 3,
      "outputs": [
        {
          "output_type": "stream",
          "text": [
            "Drive already mounted at /content/gdrive; to attempt to forcibly remount, call drive.mount(\"/content/gdrive\", force_remount=True).\n",
            "Warning: Looks like you're using an outdated API Version, please consider updating (server 1.5.9 / client 1.5.4)\n",
            "__init__.py: Skipping, found more recently modified local copy (use --force to force download)\n",
            "competition.cpython-37m-x86_64-linux-gnu.so: Skipping, found more recently modified local copy (use --force to force download)\n",
            "questions.csv: Skipping, found more recently modified local copy (use --force to force download)\n",
            "lectures.csv: Skipping, found more recently modified local copy (use --force to force download)\n",
            "example_test.csv: Skipping, found more recently modified local copy (use --force to force download)\n",
            "train.csv.zip: Skipping, found more recently modified local copy (use --force to force download)\n",
            "example_sample_submission.csv: Skipping, found more recently modified local copy (use --force to force download)\n"
          ],
          "name": "stdout"
        }
      ]
    },
    {
      "cell_type": "code",
      "metadata": {
        "id": "FEySuR069tBs"
      },
      "source": [
        "\n",
        "\n",
        "if not os.path.exists('../input/riiid-test-answer-prediction'):\n",
        "    os.makedirs('../input/riiid-test-answer-prediction')\n",
        "\n",
        "train_df = pd.read_feather('/content/gdrive/My Drive/Kaggle/train.feather')\n"
      ],
      "execution_count": 4,
      "outputs": []
    },
    {
      "cell_type": "code",
      "metadata": {
        "colab": {
          "base_uri": "https://localhost:8080/"
        },
        "id": "0CEBTtxgEHWQ",
        "outputId": "a8fa3020-188a-4b0f-9a15-f9a21915f538"
      },
      "source": [
        "!pwd"
      ],
      "execution_count": 5,
      "outputs": [
        {
          "output_type": "stream",
          "text": [
            "/content\n"
          ],
          "name": "stdout"
        }
      ]
    },
    {
      "cell_type": "code",
      "metadata": {
        "colab": {
          "base_uri": "https://localhost:8080/"
        },
        "id": "y0PQog2tBOM4",
        "outputId": "4632221d-a685-427d-81c5-7df53a76a80e"
      },
      "source": [
        "    \n",
        "source_dir = './'\n",
        "target_dir = '../input/riiid-test-answer-prediction'\n",
        "    \n",
        "file_names = ['lectures.csv','questions.csv','example_test.csv','example_sample_submission.csv']\n",
        "    \n",
        "for file_name in file_names:\n",
        "  if not os.path.exists(target_dir + '/' + file_name):\n",
        "        shutil.move(os.path.join(source_dir, file_name), target_dir)\n",
        "\n",
        "os.listdir('../input/riiid-test-answer-prediction')\n"
      ],
      "execution_count": 6,
      "outputs": [
        {
          "output_type": "execute_result",
          "data": {
            "text/plain": [
              "['questions.csv',\n",
              " 'example_test.csv',\n",
              " 'lectures.csv',\n",
              " 'train.csv',\n",
              " 'example_sample_submission.csv']"
            ]
          },
          "metadata": {
            "tags": []
          },
          "execution_count": 6
        }
      ]
    },
    {
      "cell_type": "markdown",
      "metadata": {
        "id": "kCM6k6bo6-Wj"
      },
      "source": [
        "need to create the test set (split train into train/test) before we do the validation creation. From the notebook \"Riiid: Creating a test dataset\"\n",
        "\n"
      ]
    },
    {
      "cell_type": "code",
      "metadata": {
        "id": "MdmjbdgRr_U7"
      },
      "source": [
        "def dataset_split(df, q=0.975, print_timestamps=False):\n",
        "    max_timestamp_per_user = df[['user_id','timestamp']].groupby('user_id').max()\n",
        "    max_timestamp = max_timestamp_per_user.timestamp.max()\n",
        "    max_timestamp_per_user['initial_timestamp'] = ((max_timestamp-max_timestamp_per_user.timestamp)*np.random.random(size=len(max_timestamp_per_user))).astype('uint64')\n",
        "    timestamps_df = pd.merge(df[['user_id','timestamp']],max_timestamp_per_user['initial_timestamp'],left_on='user_id',right_index=True)\n",
        "    timestamps_df['modified_timestamp'] = (timestamps_df.initial_timestamp+timestamps_df.timestamp).astype('uint64')\n",
        "    if print_timestamps:\n",
        "        print(timestamps_df)\n",
        "    ordered_rows = timestamps_df.modified_timestamp.values.argsort()\n",
        "    # calculate quantiles\n",
        "    quantiles = (np.array(q)*len(ordered_rows)).astype('uint64')\n",
        "    if type(q)==list:\n",
        "        idx_list = []\n",
        "        min_idx=0\n",
        "        for quantile in quantiles:\n",
        "            idx_list.append(ordered_rows[min_idx:quantile])\n",
        "            min_idx=quantile\n",
        "        idx_list.append(ordered_rows[min_idx:])\n",
        "        return idx_list\n",
        "    else:\n",
        "        return [ordered_rows[:quantiles], ordered_rows[quantiles:]]\n",
        "\n"
      ],
      "execution_count": 7,
      "outputs": []
    },
    {
      "cell_type": "code",
      "metadata": {
        "colab": {
          "base_uri": "https://localhost:8080/"
        },
        "id": "QeyG1jS8tYkV",
        "outputId": "6ed7c440-977e-4922-d599-9c717bc2ee7d"
      },
      "source": [
        "np.random.seed(49)\n",
        "train_idx, test_idx = dataset_split(train_df, q=0.25, print_timestamps=True)"
      ],
      "execution_count": 8,
      "outputs": [
        {
          "output_type": "stream",
          "text": [
            "              user_id  timestamp  initial_timestamp  modified_timestamp\n",
            "0                 115          0        26110978556         26110978556\n",
            "1                 115      56943        26110978556         26111035499\n",
            "2                 115     118363        26110978556         26111096919\n",
            "3                 115     131167        26110978556         26111109723\n",
            "4                 115     137965        26110978556         26111116521\n",
            "...               ...        ...                ...                 ...\n",
            "101230327  2147482888  428564420         1942710825          2371275245\n",
            "101230328  2147482888  428585000         1942710825          2371295825\n",
            "101230329  2147482888  428613475         1942710825          2371324300\n",
            "101230330  2147482888  428649406         1942710825          2371360231\n",
            "101230331  2147482888  428692118         1942710825          2371402943\n",
            "\n",
            "[101230332 rows x 4 columns]\n"
          ],
          "name": "stdout"
        }
      ]
    },
    {
      "cell_type": "code",
      "metadata": {
        "colab": {
          "base_uri": "https://localhost:8080/"
        },
        "id": "QRzzMwTttflp",
        "outputId": "753fb1f3-9705-4a88-f0b0-329e77791a00"
      },
      "source": [
        "import gc\n",
        "print(train_idx,test_idx)\n",
        "\n",
        "train_df = data.iloc[train_idx]\n",
        "train_df\n",
        "\n",
        "test_df = data.iloc[test_idx]\n",
        "test_df\n",
        "\n",
        "\n",
        "gc.collect()\n",
        "\n"
      ],
      "execution_count": null,
      "outputs": [
        {
          "output_type": "stream",
          "text": [
            "[32933156 32933157 32933158 ... 98726965 46494984 13161058] [100264781   7982876   7982875 ...  18511028  18511029  32938743]\n"
          ],
          "name": "stdout"
        }
      ]
    },
    {
      "cell_type": "markdown",
      "metadata": {
        "id": "OAXqBJUgt0oh"
      },
      "source": [
        "Test generator for emulating the riiid test environment. \n"
      ]
    },
    {
      "cell_type": "code",
      "metadata": {
        "id": "_3iYOsJbtnmb"
      },
      "source": [
        "class TestGenerator:\n",
        "    def __init__(self, df, grp_size=[1000,100]):\n",
        "        self.df = df\n",
        "        self.answered_correctly = self.df.answered_correctly.values\n",
        "        self.predictions = np.zeros(len(self.answered_correctly))\n",
        "        self.grp_size = grp_size\n",
        "        self.start_idx=0\n",
        "        self.prediction_called = True\n",
        "        self.test_cols = [c for c in df.columns if c not in ['answered_correctly','user_answer']]\n",
        "        self.current_batch = {'prior_group_answers_correct':[], 'prior_group_responses':[]}\n",
        "\n",
        "    def iter_test(self):\n",
        "        while self.start_idx<len(self.df):\n",
        "            assert self.prediction_called, \"You must call `predict()` successfully before you can continue with `iter_test()`\"\n",
        "            self.prediction_called = False\n",
        "            self.end_idx = int(self.start_idx + max(1,np.random.normal(self.grp_size[0],self.grp_size[1])))\n",
        "            test_df = self.df.iloc[self.start_idx:self.end_idx]\n",
        "            answered_correctly_previous_batch = list(test_df['answered_correctly'])\n",
        "            user_answer_previous_batch = list(test_df['user_answer'])\n",
        "            test_df = test_df[self.test_cols]\n",
        "            test_df['prior_group_answers_correct'] = None\n",
        "            test_df['prior_group_responses'] = None\n",
        "            test_df.loc[test_df.index[0],'prior_group_answers_correct'] = str(self.current_batch['prior_group_answers_correct'])\n",
        "            test_df.loc[test_df.index[0],'prior_group_responses'] = str(self.current_batch['prior_group_responses'])\n",
        "            self.current_batch['prior_group_answers_correct'] = answered_correctly_previous_batch\n",
        "            self.current_batch['prior_group_responses'] = user_answer_previous_batch\n",
        "            yield test_df\n",
        "\n",
        "    def predict(self, prediction_df):\n",
        "        assert not self.prediction_called, \"You must get the next test sample from `iter_test()` first.\"\n",
        "        self.predictions[self.start_idx:self.end_idx] = prediction_df.answered_correctly\n",
        "        self.start_idx = self.end_idx\n",
        "        self.prediction_called = True\n",
        "        if self.end_idx>=len(self.df):\n",
        "            print(\"Final AUC score: {0}\".format(roc_auc_score(self.answered_correctly,self.predictions)))\n",
        "\n",
        "      "
      ],
      "execution_count": null,
      "outputs": []
    },
    {
      "cell_type": "markdown",
      "metadata": {
        "id": "kCkWldZ1Nmjs"
      },
      "source": [
        "write train, val to csv files"
      ]
    }
  ]
}